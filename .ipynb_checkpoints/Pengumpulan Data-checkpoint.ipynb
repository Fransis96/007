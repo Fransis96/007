{
 "cells": [
  {
   "cell_type": "code",
   "execution_count": 21,
   "id": "16627de8-cc71-43d0-a71a-4329d75c7957",
   "metadata": {},
   "outputs": [],
   "source": [
    "from google_play_scraper import app, Sort, reviews\n",
    "\n",
    "result, continuation_token = reviews(\n",
    "    'com.mobile.legends',\n",
    "    lang='id', # defaults to 'en'\n",
    "    country='id', # defaults to 'us'\n",
    "    sort=Sort.MOST_RELEVANT, # defaults to Sort.NEWEST\n",
    "    count=100, # defaults to 100\n",
    "    filter_score_with=5 # defaults to None(means all score)\n",
    ")\n",
    "\n",
    "# If you pass `continuation_token` as an argument to the reviews function at this point,\n",
    "# it will crawl the items after 3 review items."
   ]
  },
  {
   "cell_type": "code",
   "execution_count": 20,
   "id": "b652672e-9580-42b5-a0ed-7f7daa6bd75d",
   "metadata": {},
   "outputs": [],
   "source": [
    "#result, _ = reviews(\n",
    "#    'com.fantome.penguinisle',\n",
    "#    continuation_token=continuation_token # defaults to None(load from the beginning)\n",
    "#)"
   ]
  },
  {
   "cell_type": "code",
   "execution_count": 22,
   "id": "59581073-4bc6-476c-bca2-4c6eef2af5a0",
   "metadata": {},
   "outputs": [],
   "source": [
    "import pandas as pd\n",
    "\n",
    "df = pd.DataFrame(result)"
   ]
  },
  {
   "cell_type": "code",
   "execution_count": 23,
   "id": "2767acd6-e09d-4452-aa40-311ded2e77f5",
   "metadata": {},
   "outputs": [],
   "source": [
    "df_content = df['content']"
   ]
  },
  {
   "cell_type": "code",
   "execution_count": 24,
   "id": "8e9d1521-0496-4d0a-88d9-a964f0adc895",
   "metadata": {},
   "outputs": [
    {
     "data": {
      "text/plain": [
       "0    Sinyal sering lag padahal wifi bagus. Kadang k...\n",
       "1    Moonton kenapa ya akhir' ini server nya suka e...\n",
       "2    game nya udh bagus dan yang bagus nya lagi gam...\n",
       "3    Kenapa game ini makin hari makin aneh? Eventny...\n",
       "4    game nya keren ,grafiknya bagus juga ,heronya ...\n",
       "5    Sekarang sudah ter-update dengan cukup baik. S...\n",
       "6    kenapa tidak bisa menyelesaikan mode latihan u...\n",
       "7    untuk moonton,beberapa keluhan dan saran,kekur...\n",
       "8    [Sengaja rate 5] gw udah muak ama moonton. KEB...\n",
       "9    tolong pihak moonton lebih di perbaiki lagi pe...\n",
       "Name: content, dtype: object"
      ]
     },
     "execution_count": 24,
     "metadata": {},
     "output_type": "execute_result"
    }
   ],
   "source": [
    "df_content.head(10)"
   ]
  },
  {
   "cell_type": "code",
   "execution_count": 26,
   "id": "68f9b576-538f-4986-b246-8462dfa7d8d8",
   "metadata": {},
   "outputs": [],
   "source": [
    "df_content.to_csv('ml_data.csv', index = False)"
   ]
  },
  {
   "cell_type": "code",
   "execution_count": 27,
   "id": "0a51b09c-14a5-4b23-ba7b-1c63268d0f4e",
   "metadata": {},
   "outputs": [
    {
     "data": {
      "application/vnd.jupyter.widget-view+json": {
       "model_id": "e08739dcec1e4d568afab6f54abf39ee",
       "version_major": 2,
       "version_minor": 0
      },
      "text/plain": [
       "README.md:   0%|          | 0.00/2.84k [00:00<?, ?B/s]"
      ]
     },
     "metadata": {},
     "output_type": "display_data"
    },
    {
     "data": {
      "application/vnd.jupyter.widget-view+json": {
       "model_id": "5cd24ecbb5b5466b8ae75a06da0fcba8",
       "version_major": 2,
       "version_minor": 0
      },
      "text/plain": [
       "google-play-review.py:   0%|          | 0.00/3.09k [00:00<?, ?B/s]"
      ]
     },
     "metadata": {},
     "output_type": "display_data"
    },
    {
     "data": {
      "application/vnd.jupyter.widget-view+json": {
       "model_id": "dfb222b98f7f4ed7ace152f0bbd2b0ac",
       "version_major": 2,
       "version_minor": 0
      },
      "text/plain": [
       "0000.parquet:   0%|          | 0.00/266k [00:00<?, ?B/s]"
      ]
     },
     "metadata": {},
     "output_type": "display_data"
    },
    {
     "data": {
      "application/vnd.jupyter.widget-view+json": {
       "model_id": "b501eb048c4e468f945b2dcebbbc5b31",
       "version_major": 2,
       "version_minor": 0
      },
      "text/plain": [
       "0000.parquet:   0%|          | 0.00/119k [00:00<?, ?B/s]"
      ]
     },
     "metadata": {},
     "output_type": "display_data"
    },
    {
     "data": {
      "application/vnd.jupyter.widget-view+json": {
       "model_id": "3a7b9a85db1c4a638e1c6b9026ae4233",
       "version_major": 2,
       "version_minor": 0
      },
      "text/plain": [
       "Generating train split:   0%|          | 0/7028 [00:00<?, ? examples/s]"
      ]
     },
     "metadata": {},
     "output_type": "display_data"
    },
    {
     "data": {
      "application/vnd.jupyter.widget-view+json": {
       "model_id": "dee041c81a104dc9ad992b4bb51b604f",
       "version_major": 2,
       "version_minor": 0
      },
      "text/plain": [
       "Generating validation split:   0%|          | 0/3012 [00:00<?, ? examples/s]"
      ]
     },
     "metadata": {},
     "output_type": "display_data"
    }
   ],
   "source": [
    "from datasets import load_dataset\n",
    "\n",
    "ds = load_dataset(\"jakartaresearch/google-play-review\")"
   ]
  },
  {
   "cell_type": "code",
   "execution_count": 30,
   "id": "0e97e075-4156-49ba-b732-8cd2ac9389e4",
   "metadata": {},
   "outputs": [
    {
     "data": {
      "text/plain": [
       "DatasetDict({\n",
       "    train: Dataset({\n",
       "        features: ['text', 'label', 'stars'],\n",
       "        num_rows: 7028\n",
       "    })\n",
       "    validation: Dataset({\n",
       "        features: ['text', 'label', 'stars'],\n",
       "        num_rows: 3012\n",
       "    })\n",
       "})"
      ]
     },
     "execution_count": 30,
     "metadata": {},
     "output_type": "execute_result"
    }
   ],
   "source": [
    "ds"
   ]
  },
  {
   "cell_type": "code",
   "execution_count": 31,
   "id": "3bb79da1-8077-4214-876d-3149c08b4de5",
   "metadata": {},
   "outputs": [],
   "source": [
    "train_data = ds['train']\n",
    "validation_data = ds['validation']"
   ]
  },
  {
   "cell_type": "code",
   "execution_count": 48,
   "id": "391f9ebe-34d3-490c-b726-58c593b09090",
   "metadata": {},
   "outputs": [
    {
     "name": "stdout",
     "output_type": "stream",
     "text": [
      "Dataset({\n",
      "    features: ['text', 'label', 'stars'],\n",
      "    num_rows: 7028\n",
      "})\n",
      "Dataset({\n",
      "    features: ['text', 'label', 'stars'],\n",
      "    num_rows: 3012\n",
      "})\n"
     ]
    }
   ],
   "source": [
    "print(train_data)\n",
    "print(validation_data)"
   ]
  },
  {
   "cell_type": "code",
   "execution_count": 49,
   "id": "ad1ba8a9-aac1-435a-be3e-5b2f123f0dc4",
   "metadata": {},
   "outputs": [],
   "source": [
    "import pandas as pd\n",
    "\n",
    "# Ubah dataset ke DataFrame\n",
    "train_df = pd.DataFrame(ds['train'])\n",
    "val_df = pd.DataFrame(ds['validation'])"
   ]
  },
  {
   "cell_type": "code",
   "execution_count": 50,
   "id": "ec242470-bfc7-4892-8344-12cd980c6e72",
   "metadata": {},
   "outputs": [
    {
     "name": "stdout",
     "output_type": "stream",
     "text": [
      "(7028, 3)\n",
      "(3012, 3)\n"
     ]
    }
   ],
   "source": [
    "print(train_df.shape)\n",
    "print(val_df.shape)"
   ]
  },
  {
   "cell_type": "code",
   "execution_count": 51,
   "id": "088853e8-2d0a-4c99-81a2-ab56c5a51ff8",
   "metadata": {},
   "outputs": [],
   "source": [
    "# Misal kamu sudah punya DataFrame dari train dataset\n",
    "train_df['label'] = train_df['label'].map({'pos': 'positive', 'neg': 'negative'})\n",
    "val_df['label'] = val_df['label'].map({'pos': 'positive', 'neg': 'negative'})"
   ]
  },
  {
   "cell_type": "code",
   "execution_count": 53,
   "id": "359acc8c-7693-42f8-a6e4-362eed577537",
   "metadata": {},
   "outputs": [],
   "source": [
    "train_df = train_df[['text','label']]\n",
    "val_df = val_df[['text','label']]"
   ]
  },
  {
   "cell_type": "code",
   "execution_count": 54,
   "id": "9720fd07-81aa-4c05-b2cc-17fc02de2acc",
   "metadata": {},
   "outputs": [],
   "source": [
    "train_df = pd.DataFrame(train_df)\n",
    "val_df = pd.DataFrame(val_df)"
   ]
  },
  {
   "cell_type": "code",
   "execution_count": 56,
   "id": "4b1af8e0-f93b-49ec-95fe-3576d04fd45b",
   "metadata": {},
   "outputs": [
    {
     "name": "stdout",
     "output_type": "stream",
     "text": [
      "<class 'pandas.core.frame.DataFrame'>\n",
      "RangeIndex: 7028 entries, 0 to 7027\n",
      "Data columns (total 2 columns):\n",
      " #   Column  Non-Null Count  Dtype \n",
      "---  ------  --------------  ----- \n",
      " 0   text    7028 non-null   object\n",
      " 1   label   7028 non-null   object\n",
      "dtypes: object(2)\n",
      "memory usage: 109.9+ KB\n",
      "None\n",
      "\n",
      "\n",
      "<class 'pandas.core.frame.DataFrame'>\n",
      "RangeIndex: 3012 entries, 0 to 3011\n",
      "Data columns (total 2 columns):\n",
      " #   Column  Non-Null Count  Dtype \n",
      "---  ------  --------------  ----- \n",
      " 0   text    3012 non-null   object\n",
      " 1   label   3012 non-null   object\n",
      "dtypes: object(2)\n",
      "memory usage: 47.2+ KB\n",
      "None\n"
     ]
    }
   ],
   "source": [
    "print(train_df.info())\n",
    "print(\"\\n\")\n",
    "print(val_df.info())"
   ]
  },
  {
   "cell_type": "code",
   "execution_count": 66,
   "id": "665b3474-8e93-45b5-83e7-e2fd65b61177",
   "metadata": {},
   "outputs": [
    {
     "name": "stdout",
     "output_type": "stream",
     "text": [
      "label\n",
      "positive    5888\n",
      "negative    1140\n",
      "Name: count, dtype: int64\n",
      "\n",
      "\n",
      "label\n",
      "positive    2532\n",
      "negative     480\n",
      "Name: count, dtype: int64\n"
     ]
    }
   ],
   "source": [
    "train_label_counts = train_df['label'].value_counts()\n",
    "val_label_counts = val_df['label'].value_counts()\n",
    "print(train_label_counts)\n",
    "print(\"\\n\")\n",
    "print(val_label_counts)"
   ]
  },
  {
   "cell_type": "code",
   "execution_count": 59,
   "id": "d07ab9b6-d630-4c38-90e1-5886909bfd42",
   "metadata": {},
   "outputs": [],
   "source": [
    "# Simpan ke file CSV\n",
    "train_df.to_csv('train_dataset.csv', index=False)\n",
    "val_df.to_csv('validation_dataset.csv', index=False)"
   ]
  },
  {
   "cell_type": "code",
   "execution_count": 67,
   "id": "a2da16c3-61c9-46ab-b976-f41a746af39f",
   "metadata": {},
   "outputs": [],
   "source": [
    "dt_join = pd.concat([train_df, val_df], ignore_index=True)"
   ]
  },
  {
   "cell_type": "code",
   "execution_count": 69,
   "id": "295cc4ed-0f46-4f48-b380-8fea0a85f3d3",
   "metadata": {},
   "outputs": [
    {
     "data": {
      "text/html": [
       "<div>\n",
       "<style scoped>\n",
       "    .dataframe tbody tr th:only-of-type {\n",
       "        vertical-align: middle;\n",
       "    }\n",
       "\n",
       "    .dataframe tbody tr th {\n",
       "        vertical-align: top;\n",
       "    }\n",
       "\n",
       "    .dataframe thead th {\n",
       "        text-align: right;\n",
       "    }\n",
       "</style>\n",
       "<table border=\"1\" class=\"dataframe\">\n",
       "  <thead>\n",
       "    <tr style=\"text-align: right;\">\n",
       "      <th></th>\n",
       "      <th>text</th>\n",
       "      <th>label</th>\n",
       "    </tr>\n",
       "  </thead>\n",
       "  <tbody>\n",
       "    <tr>\n",
       "      <th>0</th>\n",
       "      <td>Halo\\n blibli. Sedikit saran untuk gratis ong...</td>\n",
       "      <td>positive</td>\n",
       "    </tr>\n",
       "    <tr>\n",
       "      <th>1</th>\n",
       "      <td>So far so good. Respon cepat.</td>\n",
       "      <td>positive</td>\n",
       "    </tr>\n",
       "    <tr>\n",
       "      <th>2</th>\n",
       "      <td>thank</td>\n",
       "      <td>positive</td>\n",
       "    </tr>\n",
       "    <tr>\n",
       "      <th>3</th>\n",
       "      <td>Aplikasi sering not responding di hp saya (as...</td>\n",
       "      <td>negative</td>\n",
       "    </tr>\n",
       "    <tr>\n",
       "      <th>4</th>\n",
       "      <td>Gak ada komentar.</td>\n",
       "      <td>positive</td>\n",
       "    </tr>\n",
       "  </tbody>\n",
       "</table>\n",
       "</div>"
      ],
      "text/plain": [
       "                                                text     label\n",
       "0   Halo\\n blibli. Sedikit saran untuk gratis ong...  positive\n",
       "1                      So far so good. Respon cepat.  positive\n",
       "2                                              thank  positive\n",
       "3   Aplikasi sering not responding di hp saya (as...  negative\n",
       "4                                  Gak ada komentar.  positive"
      ]
     },
     "execution_count": 69,
     "metadata": {},
     "output_type": "execute_result"
    }
   ],
   "source": [
    "dt_join.head()"
   ]
  },
  {
   "cell_type": "code",
   "execution_count": 70,
   "id": "07023232-91f2-41fb-955a-296cfcbfcd23",
   "metadata": {},
   "outputs": [],
   "source": [
    "dt_join.to_csv('dt_join.csv', index=False)"
   ]
  },
  {
   "cell_type": "code",
   "execution_count": null,
   "id": "271cd895-95ff-4639-8cdf-e4fc3370e276",
   "metadata": {},
   "outputs": [],
   "source": [
    "# Menyalin semua baris dengan label negatif\n",
    "df_copy1 = train_df[train_df['label'] == 'positive'].copy()"
   ]
  },
  {
   "cell_type": "code",
   "execution_count": 72,
   "id": "569aa835-46ab-4e21-bae1-ea87a5da8ce5",
   "metadata": {},
   "outputs": [],
   "source": [
    "# Mengambil 1620 baris data dengan label 'positive' secara acak\n",
    "df_copy = train_df[train_df['label'] == 'positive'].sample(n=1620, random_state=42).copy()"
   ]
  },
  {
   "cell_type": "code",
   "execution_count": 74,
   "id": "821d13bd-2315-4012-8919-265f91223f8a",
   "metadata": {},
   "outputs": [
    {
     "data": {
      "text/plain": [
       "(1620, 2)"
      ]
     },
     "execution_count": 74,
     "metadata": {},
     "output_type": "execute_result"
    }
   ],
   "source": [
    "df_copy.shape"
   ]
  },
  {
   "cell_type": "code",
   "execution_count": null,
   "id": "2c7e3c6c-12e0-4f05-996c-ad1234c0f26b",
   "metadata": {},
   "outputs": [],
   "source": [
    "dt_join = pd.concat([train_df, val_df], ignore_index=True)"
   ]
  },
  {
   "cell_type": "code",
   "execution_count": 71,
   "id": "450167fc-5e14-4328-aba1-0e5d271c81a3",
   "metadata": {},
   "outputs": [
    {
     "name": "stdout",
     "output_type": "stream",
     "text": [
      "label\n",
      "positive    8420\n",
      "negative    1620\n",
      "Name: count, dtype: int64\n"
     ]
    }
   ],
   "source": [
    "label_dt = dt_join['label'].value_counts()\n",
    "print(label_dt)"
   ]
  },
  {
   "cell_type": "markdown",
   "id": "60fda40c-b33b-49d2-824c-6daab2424efc",
   "metadata": {},
   "source": [
    "<br>\n",
    "<hr>\n"
   ]
  },
  {
   "cell_type": "code",
   "execution_count": 7,
   "id": "e92b6134-b034-42e8-88dc-e0ef2a086dae",
   "metadata": {},
   "outputs": [],
   "source": [
    "import pandas as pd\n",
    "\n",
    "df = pd.read_csv('dt_join.csv')"
   ]
  },
  {
   "cell_type": "code",
   "execution_count": 8,
   "id": "bd34c59c-92b9-4ceb-b8fd-d1f613703c92",
   "metadata": {},
   "outputs": [
    {
     "name": "stdout",
     "output_type": "stream",
     "text": [
      "label\n",
      "positive    8420\n",
      "negative    1620\n",
      "Name: count, dtype: int64\n"
     ]
    }
   ],
   "source": [
    "jum_lab = df['label'].value_counts()\n",
    "print(jum_lab)"
   ]
  },
  {
   "cell_type": "code",
   "execution_count": null,
   "id": "6712b05b-bc2e-410b-ac97-a7997dc5a53e",
   "metadata": {},
   "outputs": [],
   "source": []
  },
  {
   "cell_type": "code",
   "execution_count": 9,
   "id": "d1e025ae-2a4a-4072-93ac-e9374e62ecc9",
   "metadata": {},
   "outputs": [],
   "source": [
    "# Mengambil 1620 baris data dengan label 'positive' secara acak\n",
    "df_pos = df[df['label'] == 'positive'].sample(n=1620, random_state=42).copy()"
   ]
  },
  {
   "cell_type": "code",
   "execution_count": 10,
   "id": "c9090316-c2b2-4c7e-9ebd-4f0315b08f73",
   "metadata": {},
   "outputs": [],
   "source": [
    "# Menyalin semua baris dengan label negatif\n",
    "df_neg = df[df['label'] == 'negative'].copy()"
   ]
  },
  {
   "cell_type": "code",
   "execution_count": 11,
   "id": "991a154a-a503-48bd-8d6d-cfc7c13d9e7a",
   "metadata": {},
   "outputs": [
    {
     "name": "stdout",
     "output_type": "stream",
     "text": [
      "label\n",
      "positive    1620\n",
      "negative    1620\n",
      "Name: count, dtype: int64\n"
     ]
    }
   ],
   "source": [
    "join_df = pd.concat([df_pos, df_neg], ignore_index=True)\n",
    "\n",
    "\n",
    "label = join_df['label'].value_counts()\n",
    "print(label)"
   ]
  },
  {
   "cell_type": "code",
   "execution_count": 12,
   "id": "bddc876f-8d02-4131-a364-a979994d7c52",
   "metadata": {},
   "outputs": [],
   "source": [
    "join_df.to_csv('dt2_label.csv', index=False)"
   ]
  },
  {
   "cell_type": "code",
   "execution_count": null,
   "id": "f4c74303-1fed-4783-8e4d-7f77c6b068c4",
   "metadata": {},
   "outputs": [],
   "source": []
  },
  {
   "cell_type": "code",
   "execution_count": null,
   "id": "6c0ff42c-371e-42de-8554-957104fc3522",
   "metadata": {},
   "outputs": [],
   "source": []
  },
  {
   "cell_type": "code",
   "execution_count": null,
   "id": "f9112481-41cc-4930-96a0-e602cc5ce8df",
   "metadata": {},
   "outputs": [],
   "source": []
  },
  {
   "cell_type": "code",
   "execution_count": null,
   "id": "6a90c89f-9bf3-44fc-a8dc-be5d4ed985e9",
   "metadata": {},
   "outputs": [],
   "source": []
  },
  {
   "cell_type": "code",
   "execution_count": null,
   "id": "0803eed5-8e41-4540-afbb-9c054602a6a4",
   "metadata": {},
   "outputs": [],
   "source": []
  },
  {
   "cell_type": "markdown",
   "id": "7a148fc6-ea1c-4f6b-90bf-625ede1ded4e",
   "metadata": {},
   "source": [
    "<hr>"
   ]
  },
  {
   "cell_type": "code",
   "execution_count": 2,
   "id": "0241529f-ba3e-4e0f-97c0-dc3df4c0ccd7",
   "metadata": {},
   "outputs": [],
   "source": [
    "import pandas as pd\n",
    "\n",
    "df = pd.read_json('neutral_reviews.json')"
   ]
  },
  {
   "cell_type": "code",
   "execution_count": 3,
   "id": "ac263fd3-d547-4bef-81ad-74c1b3ae91d4",
   "metadata": {},
   "outputs": [
    {
     "data": {
      "text/html": [
       "<div>\n",
       "<style scoped>\n",
       "    .dataframe tbody tr th:only-of-type {\n",
       "        vertical-align: middle;\n",
       "    }\n",
       "\n",
       "    .dataframe tbody tr th {\n",
       "        vertical-align: top;\n",
       "    }\n",
       "\n",
       "    .dataframe thead th {\n",
       "        text-align: right;\n",
       "    }\n",
       "</style>\n",
       "<table border=\"1\" class=\"dataframe\">\n",
       "  <thead>\n",
       "    <tr style=\"text-align: right;\">\n",
       "      <th></th>\n",
       "      <th>content</th>\n",
       "      <th>label</th>\n",
       "    </tr>\n",
       "  </thead>\n",
       "  <tbody>\n",
       "    <tr>\n",
       "      <th>0</th>\n",
       "      <td>Gameplay-nya cukup seru, tapi kadang matchmaki...</td>\n",
       "      <td>Netral</td>\n",
       "    </tr>\n",
       "    <tr>\n",
       "      <th>1</th>\n",
       "      <td>Grafisnya oke, tapi loading screen terlalu pan...</td>\n",
       "      <td>Netral</td>\n",
       "    </tr>\n",
       "    <tr>\n",
       "      <th>2</th>\n",
       "      <td>Main bareng temen asik, tapi event kurang berv...</td>\n",
       "      <td>Netral</td>\n",
       "    </tr>\n",
       "    <tr>\n",
       "      <th>3</th>\n",
       "      <td>Kontrolnya smooth, tapi butuh grinding untuk d...</td>\n",
       "      <td>Netral</td>\n",
       "    </tr>\n",
       "    <tr>\n",
       "      <th>4</th>\n",
       "      <td>Fitur ranked match seru, tapi server kadang lag.</td>\n",
       "      <td>Netral</td>\n",
       "    </tr>\n",
       "  </tbody>\n",
       "</table>\n",
       "</div>"
      ],
      "text/plain": [
       "                                             content   label\n",
       "0  Gameplay-nya cukup seru, tapi kadang matchmaki...  Netral\n",
       "1  Grafisnya oke, tapi loading screen terlalu pan...  Netral\n",
       "2  Main bareng temen asik, tapi event kurang berv...  Netral\n",
       "3  Kontrolnya smooth, tapi butuh grinding untuk d...  Netral\n",
       "4   Fitur ranked match seru, tapi server kadang lag.  Netral"
      ]
     },
     "execution_count": 3,
     "metadata": {},
     "output_type": "execute_result"
    }
   ],
   "source": [
    "df.head()"
   ]
  },
  {
   "cell_type": "code",
   "execution_count": null,
   "id": "9b5ceba9-6a32-4498-8adb-9a88043b1493",
   "metadata": {},
   "outputs": [],
   "source": []
  }
 ],
 "metadata": {
  "kernelspec": {
   "display_name": "Python 3 (ipykernel)",
   "language": "python",
   "name": "python3"
  },
  "language_info": {
   "codemirror_mode": {
    "name": "ipython",
    "version": 3
   },
   "file_extension": ".py",
   "mimetype": "text/x-python",
   "name": "python",
   "nbconvert_exporter": "python",
   "pygments_lexer": "ipython3",
   "version": "3.12.4"
  }
 },
 "nbformat": 4,
 "nbformat_minor": 5
}
