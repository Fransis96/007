{
 "cells": [
  {
   "cell_type": "markdown",
   "id": "532ae9ee-ea25-483b-b2f7-064b710a3cf3",
   "metadata": {},
   "source": [
    "# <font color=\"#000132\"><b>Pengumpulan Data</b></font>"
   ]
  },
  {
   "cell_type": "markdown",
   "id": "54679cec-3da4-441c-b4c4-496d10f7a9bb",
   "metadata": {},
   "source": [
    "**Dokumentasi modul**:``https://pypi.org/project/google-play-scraper/``\n",
    "\n",
    "**Lokasi dataset**: ``https://play.google.com/store/apps/details?id=com.mobile.legends&hl=id``"
   ]
  },
  {
   "cell_type": "code",
   "execution_count": null,
   "id": "c0503735-621b-4fad-b4de-0ec38d42f278",
   "metadata": {},
   "outputs": [],
   "source": [
    "import pandas as pd\n",
    "from google_play_scraper import Sort, reviews\n",
    "\n",
    "result, continuation_token = reviews(\n",
    "    'com.mobile.legends',\n",
    "    lang='id', # defaults to 'en'\n",
    "    country='id', # defaults to 'us'\n",
    "    sort=Sort.MOST_RELEVANT, # defaults to Sort.NEWEST\n",
    "    count=100,\n",
    "    filter_score_with=5\n",
    ")"
   ]
  },
  {
   "cell_type": "markdown",
   "id": "6725d9be-26e8-4a8c-973f-4bd55a1d0d5c",
   "metadata": {},
   "source": [
    "## Lanjutkan scraping data"
   ]
  },
  {
   "cell_type": "code",
   "execution_count": null,
   "id": "25115092-1c84-4d92-90f6-f3a4361d07a9",
   "metadata": {},
   "outputs": [],
   "source": [
    "# If you pass `continuation_token` as an argument to the reviews function at this point,\n",
    "# it will crawl the items after 3 review items.\n",
    "\n",
    "result, _ = reviews(\n",
    "    'com.mobile.legends',\n",
    "    continuation_token=continuation_token # defaults to None(load from the beginning)\n",
    ")"
   ]
  },
  {
   "cell_type": "markdown",
   "id": "63ff066f-355f-4e86-b606-f40a948c6bb2",
   "metadata": {},
   "source": [
    "## Simpan data"
   ]
  },
  {
   "cell_type": "code",
   "execution_count": 1,
   "id": "de3b17fd-b178-42b5-89c8-9d160e4b2077",
   "metadata": {},
   "outputs": [],
   "source": [
    "import csv\n",
    "import pandas as pd"
   ]
  },
  {
   "cell_type": "code",
   "execution_count": null,
   "id": "ebf1b9ff-980f-409b-97fd-f728d171b203",
   "metadata": {},
   "outputs": [],
   "source": [
    "df = pd.DataFrame(result)"
   ]
  },
  {
   "cell_type": "code",
   "execution_count": null,
   "id": "e5ce3539-1661-473c-abd9-b93c6dc2b779",
   "metadata": {},
   "outputs": [],
   "source": [
    "# Ambil atribut content\n",
    "df_content = df[['content','score']]\n",
    "\n",
    "print(f\"Sebelum diubah : {type(df_content)}\")\n",
    "\n",
    "# Jadikan dataframe\n",
    "df_content = pd.DataFrame(df_content)\n",
    "print(f\"Setelah diubah : {type(df_content)}\")"
   ]
  },
  {
   "cell_type": "code",
   "execution_count": null,
   "id": "719aa008-9184-40ec-863e-99592f9d94cf",
   "metadata": {},
   "outputs": [],
   "source": [
    "df_content.head()"
   ]
  },
  {
   "cell_type": "code",
   "execution_count": null,
   "id": "5263c22e-a520-4915-ac30-977157785392",
   "metadata": {},
   "outputs": [],
   "source": [
    "df_content.to_csv('ml_3score.csv', index = False)"
   ]
  },
  {
   "cell_type": "code",
   "execution_count": null,
   "id": "11a8bf71-837b-45bf-b603-1ace1818d8b3",
   "metadata": {},
   "outputs": [],
   "source": []
  },
  {
   "cell_type": "markdown",
   "id": "cf0ba708-1673-49ac-b871-2724c8ad6612",
   "metadata": {},
   "source": [
    "### Sampel"
   ]
  },
  {
   "cell_type": "code",
   "execution_count": null,
   "id": "a38e87f0-e6e7-4d44-ab68-3faf0ff6bdec",
   "metadata": {},
   "outputs": [],
   "source": [
    "import pandas as pd"
   ]
  },
  {
   "cell_type": "markdown",
   "id": "02c5cca5-0f3e-4da6-9486-44de2cf7baf7",
   "metadata": {},
   "source": [
    "``negative_mlbb_reviews.csv``  \n",
    "``neutral_mlbb_reviews.csv``  \n",
    "``positive_mlbb_reviews.csv``"
   ]
  },
  {
   "cell_type": "code",
   "execution_count": null,
   "id": "345a2727-aa3e-44b3-a305-1446309daf70",
   "metadata": {},
   "outputs": [],
   "source": [
    "dt_positif = pd.read_csv(\"positive_mlbb_reviews.csv\")\n",
    "dt_negatif = pd.read_csv(\"negative_mlbb_reviews.csv\")\n",
    "dt_netral = pd.read_csv(\"neutral_mlbb_reviews.csv\")"
   ]
  },
  {
   "cell_type": "code",
   "execution_count": null,
   "id": "4ae1c908-d4db-4b98-ab45-f480d01ff22c",
   "metadata": {},
   "outputs": [],
   "source": [
    "df_sampel = pd.concat([dt_positif, dt_negatif, dt_netral], ignore_index=True)"
   ]
  },
  {
   "cell_type": "code",
   "execution_count": null,
   "id": "fc200f88-8ad1-4441-9559-04dad79e9007",
   "metadata": {},
   "outputs": [],
   "source": [
    "df_filter = df_sampel[['content', 'label']]\n",
    "\n",
    "df_filter = pd.DataFrame(df_filter)\n",
    "\n",
    "df_filter.to_csv(\"ml_sampel.csv\", index=False)"
   ]
  },
  {
   "cell_type": "code",
   "execution_count": null,
   "id": "362ee913-6fc9-4f5c-a5d3-0d8a1c9abd70",
   "metadata": {},
   "outputs": [],
   "source": []
  },
  {
   "cell_type": "markdown",
   "id": "97cb0459-090b-4787-8175-58027715914c",
   "metadata": {},
   "source": [
    "- #### Sampel kata"
   ]
  },
  {
   "cell_type": "code",
   "execution_count": 6,
   "id": "fc475069-9c32-4751-9fa9-652e2c0e3c8b",
   "metadata": {},
   "outputs": [],
   "source": [
    "negatif = pd.read_csv(\"sampel/negative_words.csv\")\n",
    "positif = pd.read_csv(\"sampel/positive_words.csv\")\n",
    "netral = pd.read_csv(\"sampel/neutral_words.csv\")"
   ]
  },
  {
   "cell_type": "code",
   "execution_count": 7,
   "id": "e8fcdcd0-69ca-4c1b-9386-423bf311dddf",
   "metadata": {},
   "outputs": [],
   "source": [
    "sampel_kata = pd.concat([netral, negatif, positif], ignore_index=True)"
   ]
  },
  {
   "cell_type": "code",
   "execution_count": 8,
   "id": "2e9aa92a-a7a8-4848-ad2c-013ae9da91c7",
   "metadata": {},
   "outputs": [
    {
     "data": {
      "text/html": [
       "<div>\n",
       "<style scoped>\n",
       "    .dataframe tbody tr th:only-of-type {\n",
       "        vertical-align: middle;\n",
       "    }\n",
       "\n",
       "    .dataframe tbody tr th {\n",
       "        vertical-align: top;\n",
       "    }\n",
       "\n",
       "    .dataframe thead th {\n",
       "        text-align: right;\n",
       "    }\n",
       "</style>\n",
       "<table border=\"1\" class=\"dataframe\">\n",
       "  <thead>\n",
       "    <tr style=\"text-align: right;\">\n",
       "      <th></th>\n",
       "      <th>content</th>\n",
       "      <th>label</th>\n",
       "    </tr>\n",
       "  </thead>\n",
       "  <tbody>\n",
       "    <tr>\n",
       "      <th>0</th>\n",
       "      <td>oke</td>\n",
       "      <td>netral</td>\n",
       "    </tr>\n",
       "    <tr>\n",
       "      <th>1</th>\n",
       "      <td>ok</td>\n",
       "      <td>netral</td>\n",
       "    </tr>\n",
       "    <tr>\n",
       "      <th>2</th>\n",
       "      <td>biasa</td>\n",
       "      <td>netral</td>\n",
       "    </tr>\n",
       "    <tr>\n",
       "      <th>3</th>\n",
       "      <td>umum</td>\n",
       "      <td>netral</td>\n",
       "    </tr>\n",
       "    <tr>\n",
       "      <th>4</th>\n",
       "      <td>standar</td>\n",
       "      <td>netral</td>\n",
       "    </tr>\n",
       "  </tbody>\n",
       "</table>\n",
       "</div>"
      ],
      "text/plain": [
       "   content   label\n",
       "0      oke  netral\n",
       "1       ok  netral\n",
       "2    biasa  netral\n",
       "3     umum  netral\n",
       "4  standar  netral"
      ]
     },
     "execution_count": 8,
     "metadata": {},
     "output_type": "execute_result"
    }
   ],
   "source": [
    "sampel_kata.head()"
   ]
  },
  {
   "cell_type": "code",
   "execution_count": 9,
   "id": "61749113-eb06-495f-bc1e-b3c676f38e74",
   "metadata": {},
   "outputs": [],
   "source": [
    "# Misalnya ada juga nilai \"negatif\" yang ingin diubah\n",
    "sampel_kata['label'] = sampel_kata['label'].replace({\n",
    "    'negatif': 'negative',\n",
    "    'positif': 'positive',\n",
    "    'netral': 'neutral'\n",
    "})"
   ]
  },
  {
   "cell_type": "code",
   "execution_count": 10,
   "id": "4b4d3450-4f6b-4476-bc5b-5c3f2f920d68",
   "metadata": {},
   "outputs": [
    {
     "data": {
      "text/html": [
       "<div>\n",
       "<style scoped>\n",
       "    .dataframe tbody tr th:only-of-type {\n",
       "        vertical-align: middle;\n",
       "    }\n",
       "\n",
       "    .dataframe tbody tr th {\n",
       "        vertical-align: top;\n",
       "    }\n",
       "\n",
       "    .dataframe thead th {\n",
       "        text-align: right;\n",
       "    }\n",
       "</style>\n",
       "<table border=\"1\" class=\"dataframe\">\n",
       "  <thead>\n",
       "    <tr style=\"text-align: right;\">\n",
       "      <th></th>\n",
       "      <th>content</th>\n",
       "      <th>label</th>\n",
       "    </tr>\n",
       "  </thead>\n",
       "  <tbody>\n",
       "    <tr>\n",
       "      <th>0</th>\n",
       "      <td>oke</td>\n",
       "      <td>neutral</td>\n",
       "    </tr>\n",
       "    <tr>\n",
       "      <th>1</th>\n",
       "      <td>ok</td>\n",
       "      <td>neutral</td>\n",
       "    </tr>\n",
       "    <tr>\n",
       "      <th>2</th>\n",
       "      <td>biasa</td>\n",
       "      <td>neutral</td>\n",
       "    </tr>\n",
       "    <tr>\n",
       "      <th>3</th>\n",
       "      <td>umum</td>\n",
       "      <td>neutral</td>\n",
       "    </tr>\n",
       "    <tr>\n",
       "      <th>4</th>\n",
       "      <td>standar</td>\n",
       "      <td>neutral</td>\n",
       "    </tr>\n",
       "  </tbody>\n",
       "</table>\n",
       "</div>"
      ],
      "text/plain": [
       "   content    label\n",
       "0      oke  neutral\n",
       "1       ok  neutral\n",
       "2    biasa  neutral\n",
       "3     umum  neutral\n",
       "4  standar  neutral"
      ]
     },
     "execution_count": 10,
     "metadata": {},
     "output_type": "execute_result"
    }
   ],
   "source": [
    "sampel_kata.head()"
   ]
  },
  {
   "cell_type": "code",
   "execution_count": 12,
   "id": "48e6fbe3-53a9-407e-b4de-f9abc0611f51",
   "metadata": {},
   "outputs": [],
   "source": [
    "sampel_kata.to_csv('sampel/sampel_kata.csv', index = False)"
   ]
  },
  {
   "cell_type": "code",
   "execution_count": 13,
   "id": "4263015e-d539-4750-8f32-f0e8dc295265",
   "metadata": {},
   "outputs": [],
   "source": [
    "df_s1 = pd.read_csv('sampel/sampel_bersih.csv')\n",
    "df_s2 = pd.read_csv('sampel/sampel_kata.csv')"
   ]
  },
  {
   "cell_type": "code",
   "execution_count": 14,
   "id": "a4148738-2ca3-4220-bdb9-8c5c8411f695",
   "metadata": {},
   "outputs": [],
   "source": [
    "sampel = pd.concat([df_s1, df_s2], ignore_index=True)"
   ]
  },
  {
   "cell_type": "code",
   "execution_count": 15,
   "id": "193b2fd3-e5cb-45cf-a381-5b8677aa9c40",
   "metadata": {},
   "outputs": [
    {
     "data": {
      "text/plain": [
       "(606, 2)"
      ]
     },
     "execution_count": 15,
     "metadata": {},
     "output_type": "execute_result"
    }
   ],
   "source": [
    "sampel.shape"
   ]
  },
  {
   "cell_type": "code",
   "execution_count": 17,
   "id": "cbf05da8-d54b-4f44-856c-1806cad73ccf",
   "metadata": {},
   "outputs": [],
   "source": [
    "sampel.to_csv('sampel/sampel_gabungan.csv', index = False)"
   ]
  },
  {
   "cell_type": "code",
   "execution_count": null,
   "id": "88bf1afb-ec3d-4892-8cac-6f242badd161",
   "metadata": {},
   "outputs": [],
   "source": []
  }
 ],
 "metadata": {
  "kernelspec": {
   "display_name": "Python 3 (ipykernel)",
   "language": "python",
   "name": "python3"
  },
  "language_info": {
   "codemirror_mode": {
    "name": "ipython",
    "version": 3
   },
   "file_extension": ".py",
   "mimetype": "text/x-python",
   "name": "python",
   "nbconvert_exporter": "python",
   "pygments_lexer": "ipython3",
   "version": "3.12.4"
  }
 },
 "nbformat": 4,
 "nbformat_minor": 5
}
