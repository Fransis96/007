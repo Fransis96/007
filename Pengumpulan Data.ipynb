{
 "cells": [
  {
   "cell_type": "code",
   "execution_count": 1,
   "id": "16627de8-cc71-43d0-a71a-4329d75c7957",
   "metadata": {},
   "outputs": [],
   "source": [
    "from google_play_scraper import app, Sort, reviews\n",
    "\n",
    "result, continuation_token = reviews(\n",
    "    'com.mobile.legends',\n",
    "    lang='id', # defaults to 'en'\n",
    "    country='id', # defaults to 'us'\n",
    "    sort=Sort.MOST_RELEVANT, # defaults to Sort.NEWEST\n",
    "    count=200 # defaults to 100\n",
    "    #filter_score_with=5 # defaults to None(means all score)\n",
    ")\n",
    "\n",
    "# If you pass `continuation_token` as an argument to the reviews function at this point,\n",
    "# it will crawl the items after 3 review items."
   ]
  },
  {
   "cell_type": "code",
   "execution_count": 2,
   "id": "b652672e-9580-42b5-a0ed-7f7daa6bd75d",
   "metadata": {},
   "outputs": [],
   "source": [
    "#result, _ = reviews(\n",
    "#    'com.fantome.penguinisle',\n",
    "#    continuation_token=continuation_token # defaults to None(load from the beginning)\n",
    "#)"
   ]
  },
  {
   "cell_type": "code",
   "execution_count": 3,
   "id": "59581073-4bc6-476c-bca2-4c6eef2af5a0",
   "metadata": {},
   "outputs": [],
   "source": [
    "import pandas as pd\n",
    "\n",
    "df = pd.DataFrame(result)"
   ]
  },
  {
   "cell_type": "code",
   "execution_count": 4,
   "id": "2767acd6-e09d-4452-aa40-311ded2e77f5",
   "metadata": {},
   "outputs": [],
   "source": [
    "df_content = df['content']"
   ]
  },
  {
   "cell_type": "code",
   "execution_count": 5,
   "id": "8e9d1521-0496-4d0a-88d9-a964f0adc895",
   "metadata": {},
   "outputs": [
    {
     "data": {
      "text/plain": [
       "0    [Sengaja rate 5] gw udah muak ama moonton. KEB...\n",
       "1    klo main selalu dapat tim beban, meskipun kita...\n",
       "2    Terlalu banyak yg d upgrade dan tingkatkan dal...\n",
       "3    gamenya sebenernya seru dan cukup bikin ketagi...\n",
       "4    Magic chess mengalami bug, pabila sudah mendap...\n",
       "5    Perbaiki jaringan,perbaiki juga foto album mas...\n",
       "6    ada dua masalah. pertama: pembagian tim yang t...\n",
       "7    ini saya beri rating bintang 5 agar cepat di n...\n",
       "8    game nya si bagus , tapi kenapa pas saya main ...\n",
       "9    untuk gamenya bagus dan kasih skin gratis tapi...\n",
       "Name: content, dtype: object"
      ]
     },
     "execution_count": 5,
     "metadata": {},
     "output_type": "execute_result"
    }
   ],
   "source": [
    "df_content.head(10)"
   ]
  },
  {
   "cell_type": "code",
   "execution_count": 7,
   "id": "68f9b576-538f-4986-b246-8462dfa7d8d8",
   "metadata": {},
   "outputs": [],
   "source": [
    "df_content.to_excel('sampel_data.xlsx', index = False)"
   ]
  },
  {
   "cell_type": "code",
   "execution_count": null,
   "id": "9b5ceba9-6a32-4498-8adb-9a88043b1493",
   "metadata": {},
   "outputs": [],
   "source": []
  }
 ],
 "metadata": {
  "kernelspec": {
   "display_name": "Python 3 (ipykernel)",
   "language": "python",
   "name": "python3"
  },
  "language_info": {
   "codemirror_mode": {
    "name": "ipython",
    "version": 3
   },
   "file_extension": ".py",
   "mimetype": "text/x-python",
   "name": "python",
   "nbconvert_exporter": "python",
   "pygments_lexer": "ipython3",
   "version": "3.12.4"
  }
 },
 "nbformat": 4,
 "nbformat_minor": 5
}
