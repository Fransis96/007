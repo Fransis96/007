{
 "cells": [
  {
   "cell_type": "code",
   "execution_count": 3,
   "id": "044214d8-106f-435b-8693-fba870519a02",
   "metadata": {},
   "outputs": [
    {
     "data": {
      "text/html": [
       "<div>\n",
       "<style scoped>\n",
       "    .dataframe tbody tr th:only-of-type {\n",
       "        vertical-align: middle;\n",
       "    }\n",
       "\n",
       "    .dataframe tbody tr th {\n",
       "        vertical-align: top;\n",
       "    }\n",
       "\n",
       "    .dataframe thead th {\n",
       "        text-align: right;\n",
       "    }\n",
       "</style>\n",
       "<table border=\"1\" class=\"dataframe\">\n",
       "  <thead>\n",
       "    <tr style=\"text-align: right;\">\n",
       "      <th></th>\n",
       "      <th>content</th>\n",
       "      <th>label</th>\n",
       "    </tr>\n",
       "  </thead>\n",
       "  <tbody>\n",
       "    <tr>\n",
       "      <th>0</th>\n",
       "      <td>game grafik pukau gameplay nya seru event naru...</td>\n",
       "      <td>positive</td>\n",
       "    </tr>\n",
       "    <tr>\n",
       "      <th>1</th>\n",
       "      <td>skin gratis event bikin semangat main terima k...</td>\n",
       "      <td>positive</td>\n",
       "    </tr>\n",
       "    <tr>\n",
       "      <th>2</th>\n",
       "      <td>main mlbb bareng temen seru fitur tim bikin ko...</td>\n",
       "      <td>positive</td>\n",
       "    </tr>\n",
       "    <tr>\n",
       "      <th>3</th>\n",
       "      <td>event collab nya keren abis naruto mini game n...</td>\n",
       "      <td>positive</td>\n",
       "    </tr>\n",
       "    <tr>\n",
       "      <th>4</th>\n",
       "      <td>grafik update baru halus efek skill hero spekt...</td>\n",
       "      <td>positive</td>\n",
       "    </tr>\n",
       "  </tbody>\n",
       "</table>\n",
       "</div>"
      ],
      "text/plain": [
       "                                             content     label\n",
       "0  game grafik pukau gameplay nya seru event naru...  positive\n",
       "1  skin gratis event bikin semangat main terima k...  positive\n",
       "2  main mlbb bareng temen seru fitur tim bikin ko...  positive\n",
       "3  event collab nya keren abis naruto mini game n...  positive\n",
       "4  grafik update baru halus efek skill hero spekt...  positive"
      ]
     },
     "execution_count": 3,
     "metadata": {},
     "output_type": "execute_result"
    }
   ],
   "source": [
    "import pandas as pd\n",
    "\n",
    "df = pd.read_csv(\"../sampel/sampel_bersih.csv\")\n",
    "df.head()"
   ]
  },
  {
   "cell_type": "markdown",
   "id": "c6002ec6-c5d0-4e83-85ee-38c0081b8f73",
   "metadata": {},
   "source": [
    "### Tes Bagi manual data train dan test"
   ]
  },
  {
   "cell_type": "code",
   "execution_count": 4,
   "id": "16953b4d-b609-4639-9f46-ec64906be2a5",
   "metadata": {},
   "outputs": [],
   "source": [
    "# Ambil data training (80 per label)\n",
    "df_train_neg = df[df['label'] == 'negative'].sample(n=80, random_state=1)\n",
    "df_train_pos = df[df['label'] == 'positive'].sample(n=80, random_state=1)\n",
    "df_train_net = df[df['label'] == 'neutral'].sample(n=80, random_state=1)\n",
    "\n",
    "df_train = pd.concat([df_train_neg, df_train_pos, df_train_net]).sample(frac=1, random_state=1).reset_index(drop=True)\n",
    "\n",
    "# Ambil data testing (20 per label)\n",
    "df_test_neg = df[df['label'] == 'negative'].drop(df_train_neg.index).sample(n=20, random_state=2)\n",
    "df_test_pos = df[df['label'] == 'positive'].drop(df_train_pos.index).sample(n=20, random_state=2)\n",
    "df_test_net = df[df['label'] == 'neutral'].drop(df_train_net.index).sample(n=20, random_state=2)\n",
    "\n",
    "df_test = pd.concat([df_test_neg, df_test_pos, df_test_net]).sample(frac=1, random_state=2).reset_index(drop=True)"
   ]
  },
  {
   "cell_type": "markdown",
   "id": "25536214-04be-4867-9a0e-e213bd2ec429",
   "metadata": {},
   "source": [
    "### Cek Hasil"
   ]
  },
  {
   "cell_type": "code",
   "execution_count": 6,
   "id": "5f366193-08cf-4a4b-b786-0ca118114d43",
   "metadata": {},
   "outputs": [
    {
     "name": "stdout",
     "output_type": "stream",
     "text": [
      "label\n",
      "neutral     80\n",
      "positive    80\n",
      "negative    80\n",
      "Name: count, dtype: int64\n",
      "label\n",
      "positive    20\n",
      "negative    20\n",
      "neutral     20\n",
      "Name: count, dtype: int64\n"
     ]
    }
   ],
   "source": [
    "print(df_train['label'].value_counts())\n",
    "print(df_test['label'].value_counts())"
   ]
  },
  {
   "cell_type": "markdown",
   "id": "0f508a48-8d09-459c-9432-5ed03cf3c556",
   "metadata": {},
   "source": [
    "### TF-IDF Vectorizer"
   ]
  },
  {
   "cell_type": "code",
   "execution_count": 7,
   "id": "76d7a08a-49a3-4dcc-a053-a1de08930201",
   "metadata": {},
   "outputs": [],
   "source": [
    "from sklearn.feature_extraction.text import TfidfVectorizer\n",
    "\n",
    "# TF-IDF hanya dari data training\n",
    "vectorizer = TfidfVectorizer(max_features=5000)\n",
    "X_train = vectorizer.fit_transform(df_train['content'])\n",
    "X_test = vectorizer.transform(df_test['content'])\n"
   ]
  },
  {
   "cell_type": "markdown",
   "id": "c0bb5859-e94d-48cc-adc5-79d3d4d669fd",
   "metadata": {},
   "source": [
    "### ✅ Ubah Label ke One-Hot"
   ]
  },
  {
   "cell_type": "code",
   "execution_count": 8,
   "id": "bfc5bcfa-56a4-4dde-b63c-4b8557109cb2",
   "metadata": {},
   "outputs": [],
   "source": [
    "from sklearn.preprocessing import LabelEncoder\n",
    "from tensorflow.keras.utils import to_categorical\n",
    "\n",
    "le = LabelEncoder()\n",
    "y_train_enc = le.fit_transform(df_train['label'])\n",
    "y_test_enc = le.transform(df_test['label'])\n",
    "\n",
    "y_train_cat = to_categorical(y_train_enc)\n",
    "y_test_cat = to_categorical(y_test_enc)"
   ]
  },
  {
   "cell_type": "markdown",
   "id": "85ec8384-217f-462b-8503-6d06bc2192ba",
   "metadata": {},
   "source": [
    "### ✅ Buat & Latih Model DNN"
   ]
  },
  {
   "cell_type": "code",
   "execution_count": 9,
   "id": "f0fa1cb7-407a-4678-8b7e-979ad2a78880",
   "metadata": {},
   "outputs": [
    {
     "name": "stdout",
     "output_type": "stream",
     "text": [
      "Epoch 1/10\n"
     ]
    },
    {
     "name": "stderr",
     "output_type": "stream",
     "text": [
      "C:\\Users\\agnes\\AppData\\Local\\Programs\\Python\\Python312\\Lib\\site-packages\\keras\\src\\layers\\core\\dense.py:93: UserWarning: Do not pass an `input_shape`/`input_dim` argument to a layer. When using Sequential models, prefer using an `Input(shape)` object as the first layer in the model instead.\n",
      "  super().__init__(activity_regularizer=activity_regularizer, **kwargs)\n"
     ]
    },
    {
     "name": "stdout",
     "output_type": "stream",
     "text": [
      "\u001b[1m12/12\u001b[0m \u001b[32m━━━━━━━━━━━━━━━━━━━━\u001b[0m\u001b[37m\u001b[0m \u001b[1m1s\u001b[0m 30ms/step - accuracy: 0.4398 - loss: 1.0899 - val_accuracy: 0.5625 - val_loss: 1.0634\n",
      "Epoch 2/10\n",
      "\u001b[1m12/12\u001b[0m \u001b[32m━━━━━━━━━━━━━━━━━━━━\u001b[0m\u001b[37m\u001b[0m \u001b[1m0s\u001b[0m 11ms/step - accuracy: 0.8251 - loss: 1.0080 - val_accuracy: 0.6458 - val_loss: 1.0101\n",
      "Epoch 3/10\n",
      "\u001b[1m12/12\u001b[0m \u001b[32m━━━━━━━━━━━━━━━━━━━━\u001b[0m\u001b[37m\u001b[0m \u001b[1m0s\u001b[0m 10ms/step - accuracy: 0.8975 - loss: 0.8925 - val_accuracy: 0.7708 - val_loss: 0.8989\n",
      "Epoch 4/10\n",
      "\u001b[1m12/12\u001b[0m \u001b[32m━━━━━━━━━━━━━━━━━━━━\u001b[0m\u001b[37m\u001b[0m \u001b[1m0s\u001b[0m 10ms/step - accuracy: 0.9570 - loss: 0.7013 - val_accuracy: 0.8125 - val_loss: 0.7149\n",
      "Epoch 5/10\n",
      "\u001b[1m12/12\u001b[0m \u001b[32m━━━━━━━━━━━━━━━━━━━━\u001b[0m\u001b[37m\u001b[0m \u001b[1m0s\u001b[0m 11ms/step - accuracy: 0.9823 - loss: 0.4559 - val_accuracy: 0.9375 - val_loss: 0.5066\n",
      "Epoch 6/10\n",
      "\u001b[1m12/12\u001b[0m \u001b[32m━━━━━━━━━━━━━━━━━━━━\u001b[0m\u001b[37m\u001b[0m \u001b[1m0s\u001b[0m 10ms/step - accuracy: 1.0000 - loss: 0.2721 - val_accuracy: 0.9583 - val_loss: 0.3187\n",
      "Epoch 7/10\n",
      "\u001b[1m12/12\u001b[0m \u001b[32m━━━━━━━━━━━━━━━━━━━━\u001b[0m\u001b[37m\u001b[0m \u001b[1m0s\u001b[0m 11ms/step - accuracy: 1.0000 - loss: 0.1272 - val_accuracy: 0.9792 - val_loss: 0.2055\n",
      "Epoch 8/10\n",
      "\u001b[1m12/12\u001b[0m \u001b[32m━━━━━━━━━━━━━━━━━━━━\u001b[0m\u001b[37m\u001b[0m \u001b[1m0s\u001b[0m 11ms/step - accuracy: 1.0000 - loss: 0.0550 - val_accuracy: 0.9792 - val_loss: 0.1498\n",
      "Epoch 9/10\n",
      "\u001b[1m12/12\u001b[0m \u001b[32m━━━━━━━━━━━━━━━━━━━━\u001b[0m\u001b[37m\u001b[0m \u001b[1m0s\u001b[0m 10ms/step - accuracy: 1.0000 - loss: 0.0314 - val_accuracy: 0.9792 - val_loss: 0.1226\n",
      "Epoch 10/10\n",
      "\u001b[1m12/12\u001b[0m \u001b[32m━━━━━━━━━━━━━━━━━━━━\u001b[0m\u001b[37m\u001b[0m \u001b[1m0s\u001b[0m 11ms/step - accuracy: 1.0000 - loss: 0.0159 - val_accuracy: 0.9792 - val_loss: 0.1084\n"
     ]
    },
    {
     "data": {
      "text/plain": [
       "<keras.src.callbacks.history.History at 0x2b3be761c40>"
      ]
     },
     "execution_count": 9,
     "metadata": {},
     "output_type": "execute_result"
    }
   ],
   "source": [
    "from tensorflow.keras.models import Sequential\n",
    "from tensorflow.keras.layers import Dense\n",
    "\n",
    "model = Sequential([\n",
    "    Dense(128, activation='relu', input_shape=(X_train.shape[1],)),\n",
    "    Dense(64, activation='relu'),\n",
    "    Dense(3, activation='softmax')  # 3 kelas: negative, neutral, positive\n",
    "])\n",
    "\n",
    "model.compile(\n",
    "    loss='categorical_crossentropy',\n",
    "    optimizer='adam',\n",
    "    metrics=['accuracy']\n",
    ")\n",
    "\n",
    "model.fit(X_train.toarray(), y_train_cat, epochs=10, batch_size=16, validation_split=0.2)"
   ]
  },
  {
   "cell_type": "code",
   "execution_count": 10,
   "id": "5210c9f3-1d97-4365-9d74-5b724da12035",
   "metadata": {},
   "outputs": [
    {
     "name": "stdout",
     "output_type": "stream",
     "text": [
      "\u001b[1m2/2\u001b[0m \u001b[32m━━━━━━━━━━━━━━━━━━━━\u001b[0m\u001b[37m\u001b[0m \u001b[1m0s\u001b[0m 34ms/step - accuracy: 1.0000 - loss: 0.0421 \n",
      "🎯 Akurasi: 100.00%\n"
     ]
    }
   ],
   "source": [
    "loss, acc = model.evaluate(X_test.toarray(), y_test_cat)\n",
    "print(f\"🎯 Akurasi: {acc:.2%}\")"
   ]
  },
  {
   "cell_type": "code",
   "execution_count": 12,
   "id": "4e4152dd-842b-421b-b411-0356f9128bce",
   "metadata": {},
   "outputs": [],
   "source": [
    "import joblib\n",
    "\n",
    "joblib.dump(vectorizer, 'tfidf_vectorizer_DNN.pkl') \n",
    "model.save('sentiment_DNN_v2.keras')"
   ]
  },
  {
   "cell_type": "code",
   "execution_count": null,
   "id": "fda0a5ca-8765-49ee-8a17-4c31343e823c",
   "metadata": {},
   "outputs": [],
   "source": []
  },
  {
   "cell_type": "code",
   "execution_count": null,
   "id": "655ad44e-8e43-4ad1-a689-9c574c17e0c6",
   "metadata": {},
   "outputs": [],
   "source": []
  },
  {
   "cell_type": "code",
   "execution_count": 27,
   "id": "6f909567-e6ef-4023-9aed-4fcee2459f54",
   "metadata": {},
   "outputs": [
    {
     "name": "stdout",
     "output_type": "stream",
     "text": [
      "\u001b[1m1/1\u001b[0m \u001b[32m━━━━━━━━━━━━━━━━━━━━\u001b[0m\u001b[37m\u001b[0m \u001b[1m0s\u001b[0m 54ms/step\n",
      "Prediksi sentimen: positive\n"
     ]
    }
   ],
   "source": [
    "ulasan_baru = [\"anak dajal\"]\n",
    "\n",
    "# Preprocessing: transform ulasan ke tf-idf\n",
    "X_new = vectorizer.transform(ulasan_baru)\n",
    "\n",
    "# Prediksi probabilitas dan kelas\n",
    "y_pred = model.predict(X_new.toarray())\n",
    "pred_label = le.inverse_transform([y_pred.argmax()])\n",
    "\n",
    "print(\"Prediksi sentimen:\", pred_label[0])"
   ]
  },
  {
   "cell_type": "code",
   "execution_count": null,
   "id": "95fa0c58-0163-4120-ab77-e7a4be66d44d",
   "metadata": {},
   "outputs": [],
   "source": [
    "import matplotlib.pyplot as plt\n",
    "\n",
    "history = model.fit(...)  # Simpan hasil training ke variabel history\n",
    "\n",
    "# Plot akurasi\n",
    "plt.plot(history.history['accuracy'], label='Train')\n",
    "plt.plot(history.history['val_accuracy'], label='Val')\n",
    "plt.title('Akurasi')\n",
    "plt.xlabel('Epoch')\n",
    "plt.ylabel('Akurasi')\n",
    "plt.legend()\n",
    "plt.show()\n",
    "\n",
    "# Plot loss\n",
    "plt.plot(history.history['loss'], label='Train')\n",
    "plt.plot(history.history['val_loss'], label='Val')\n",
    "plt.title('Loss')\n",
    "plt.xlabel('Epoch')\n",
    "plt.ylabel('Loss')\n",
    "plt.legend()\n",
    "plt.show()"
   ]
  }
 ],
 "metadata": {
  "kernelspec": {
   "display_name": "Python 3 (ipykernel)",
   "language": "python",
   "name": "python3"
  },
  "language_info": {
   "codemirror_mode": {
    "name": "ipython",
    "version": 3
   },
   "file_extension": ".py",
   "mimetype": "text/x-python",
   "name": "python",
   "nbconvert_exporter": "python",
   "pygments_lexer": "ipython3",
   "version": "3.12.4"
  }
 },
 "nbformat": 4,
 "nbformat_minor": 5
}
