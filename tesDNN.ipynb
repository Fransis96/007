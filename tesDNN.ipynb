{
 "cells": [
  {
   "cell_type": "code",
   "execution_count": 1,
   "id": "155feda5-a5af-4090-9852-b750e1c4beb5",
   "metadata": {},
   "outputs": [],
   "source": [
    "# 1. Import pustaka\n",
    "import pandas as pd\n",
    "from sklearn.model_selection import train_test_split\n",
    "from sklearn.feature_extraction.text import TfidfVectorizer\n",
    "from sklearn.preprocessing import LabelEncoder\n",
    "from tensorflow.keras.utils import to_categorical\n",
    "from tensorflow.keras.models import Sequential\n",
    "from tensorflow.keras.layers import Dense"
   ]
  },
  {
   "cell_type": "code",
   "execution_count": 4,
   "id": "9ad3713b-e877-4956-9998-c2cc826e734f",
   "metadata": {},
   "outputs": [],
   "source": [
    "dt_bersih = pd.read_csv('../sampel/sampel_bersih.csv')"
   ]
  },
  {
   "cell_type": "code",
   "execution_count": 5,
   "id": "c69a0e47-69ad-479c-90ff-5c0cc35c36f6",
   "metadata": {},
   "outputs": [],
   "source": [
    "# 2. Ambil data\n",
    "X_raw = dt_bersih['content']\n",
    "y_raw = dt_bersih['label']\n"
   ]
  },
  {
   "cell_type": "code",
   "execution_count": 6,
   "id": "629757d1-6b1d-4fab-bd27-c5edae4c1465",
   "metadata": {},
   "outputs": [],
   "source": [
    "# 3. TF-IDF vektorisasi\n",
    "vectorizer = TfidfVectorizer(max_features=5000)\n",
    "X = vectorizer.fit_transform(X_raw).toarray()  # Output: array 2D"
   ]
  },
  {
   "cell_type": "code",
   "execution_count": 7,
   "id": "31a9cd2a-11df-4076-b7cf-b758ab652c4f",
   "metadata": {},
   "outputs": [],
   "source": [
    "# 4. Encode label\n",
    "le = LabelEncoder()\n",
    "y_encoded = le.fit_transform(y_raw)            # e.g. ['positif','negatif','netral'] → [2,0,1]\n",
    "y = to_categorical(y_encoded)                  # One-hot encoding → [0,1,0] dsb."
   ]
  },
  {
   "cell_type": "code",
   "execution_count": 8,
   "id": "ce542613-9b0d-43a7-8c0a-3a4a976899b5",
   "metadata": {},
   "outputs": [],
   "source": [
    "# 5. Split data\n",
    "X_train, X_test, y_train, y_test = train_test_split(X, y, test_size=0.2, random_state=42)"
   ]
  },
  {
   "cell_type": "code",
   "execution_count": 9,
   "id": "442aed66-96a5-444c-b7ca-83e6d11ed36c",
   "metadata": {},
   "outputs": [
    {
     "name": "stderr",
     "output_type": "stream",
     "text": [
      "C:\\Users\\agnes\\AppData\\Local\\Programs\\Python\\Python312\\Lib\\site-packages\\keras\\src\\layers\\core\\dense.py:93: UserWarning: Do not pass an `input_shape`/`input_dim` argument to a layer. When using Sequential models, prefer using an `Input(shape)` object as the first layer in the model instead.\n",
      "  super().__init__(activity_regularizer=activity_regularizer, **kwargs)\n"
     ]
    }
   ],
   "source": [
    "# 6. Buat model DNN\n",
    "model = Sequential([\n",
    "    Dense(128, activation='relu', input_shape=(X.shape[1],)),\n",
    "    Dense(64, activation='relu'),\n",
    "    Dense(y.shape[1], activation='softmax')  # Output sesuai jumlah kelas\n",
    "])"
   ]
  },
  {
   "cell_type": "code",
   "execution_count": 10,
   "id": "f7ebe1a2-3265-40e3-8c82-899b93728760",
   "metadata": {},
   "outputs": [
    {
     "name": "stdout",
     "output_type": "stream",
     "text": [
      "Epoch 1/10\n",
      "\u001b[1m7/7\u001b[0m \u001b[32m━━━━━━━━━━━━━━━━━━━━\u001b[0m\u001b[37m\u001b[0m \u001b[1m2s\u001b[0m 78ms/step - accuracy: 0.4072 - loss: 1.0960 - val_accuracy: 0.6667 - val_loss: 1.0535\n",
      "Epoch 2/10\n",
      "\u001b[1m7/7\u001b[0m \u001b[32m━━━━━━━━━━━━━━━━━━━━\u001b[0m\u001b[37m\u001b[0m \u001b[1m0s\u001b[0m 24ms/step - accuracy: 0.7262 - loss: 1.0479 - val_accuracy: 0.7500 - val_loss: 1.0105\n",
      "Epoch 3/10\n",
      "\u001b[1m7/7\u001b[0m \u001b[32m━━━━━━━━━━━━━━━━━━━━\u001b[0m\u001b[37m\u001b[0m \u001b[1m0s\u001b[0m 25ms/step - accuracy: 0.9082 - loss: 0.9926 - val_accuracy: 0.9167 - val_loss: 0.9472\n",
      "Epoch 4/10\n",
      "\u001b[1m7/7\u001b[0m \u001b[32m━━━━━━━━━━━━━━━━━━━━\u001b[0m\u001b[37m\u001b[0m \u001b[1m0s\u001b[0m 27ms/step - accuracy: 0.9607 - loss: 0.9097 - val_accuracy: 0.9167 - val_loss: 0.8542\n",
      "Epoch 5/10\n",
      "\u001b[1m7/7\u001b[0m \u001b[32m━━━━━━━━━━━━━━━━━━━━\u001b[0m\u001b[37m\u001b[0m \u001b[1m0s\u001b[0m 24ms/step - accuracy: 0.9784 - loss: 0.7850 - val_accuracy: 0.9167 - val_loss: 0.7260\n",
      "Epoch 6/10\n",
      "\u001b[1m7/7\u001b[0m \u001b[32m━━━━━━━━━━━━━━━━━━━━\u001b[0m\u001b[37m\u001b[0m \u001b[1m0s\u001b[0m 25ms/step - accuracy: 0.9826 - loss: 0.6451 - val_accuracy: 0.9583 - val_loss: 0.5780\n",
      "Epoch 7/10\n",
      "\u001b[1m7/7\u001b[0m \u001b[32m━━━━━━━━━━━━━━━━━━━━\u001b[0m\u001b[37m\u001b[0m \u001b[1m0s\u001b[0m 24ms/step - accuracy: 1.0000 - loss: 0.4701 - val_accuracy: 0.9583 - val_loss: 0.4318\n",
      "Epoch 8/10\n",
      "\u001b[1m7/7\u001b[0m \u001b[32m━━━━━━━━━━━━━━━━━━━━\u001b[0m\u001b[37m\u001b[0m \u001b[1m0s\u001b[0m 28ms/step - accuracy: 1.0000 - loss: 0.3270 - val_accuracy: 0.9583 - val_loss: 0.3162\n",
      "Epoch 9/10\n",
      "\u001b[1m7/7\u001b[0m \u001b[32m━━━━━━━━━━━━━━━━━━━━\u001b[0m\u001b[37m\u001b[0m \u001b[1m0s\u001b[0m 21ms/step - accuracy: 1.0000 - loss: 0.2004 - val_accuracy: 0.9583 - val_loss: 0.2346\n",
      "Epoch 10/10\n",
      "\u001b[1m7/7\u001b[0m \u001b[32m━━━━━━━━━━━━━━━━━━━━\u001b[0m\u001b[37m\u001b[0m \u001b[1m0s\u001b[0m 19ms/step - accuracy: 1.0000 - loss: 0.1087 - val_accuracy: 0.9583 - val_loss: 0.1855\n"
     ]
    },
    {
     "data": {
      "text/plain": [
       "<keras.src.callbacks.history.History at 0x297903b6780>"
      ]
     },
     "execution_count": 10,
     "metadata": {},
     "output_type": "execute_result"
    }
   ],
   "source": [
    "# 7. Kompilasi dan latih\n",
    "model.compile(loss='categorical_crossentropy', optimizer='adam', metrics=['accuracy'])\n",
    "model.fit(X_train, y_train, epochs=10, batch_size=32, validation_split=0.1)"
   ]
  },
  {
   "cell_type": "code",
   "execution_count": 11,
   "id": "0a9c3e2f-a809-40e7-8677-7ed3f1235ebe",
   "metadata": {},
   "outputs": [
    {
     "name": "stdout",
     "output_type": "stream",
     "text": [
      "\u001b[1m2/2\u001b[0m \u001b[32m━━━━━━━━━━━━━━━━━━━━\u001b[0m\u001b[37m\u001b[0m \u001b[1m0s\u001b[0m 30ms/step - accuracy: 0.9569 - loss: 0.1777\n",
      "✅ Akurasi: 0.9667\n"
     ]
    }
   ],
   "source": [
    "# 8. Evaluasi\n",
    "loss, acc = model.evaluate(X_test, y_test)\n",
    "print(f\"✅ Akurasi: {acc:.4f}\")"
   ]
  },
  {
   "cell_type": "code",
   "execution_count": null,
   "id": "0b19df89-3b54-4949-9d2c-fcd7be8d3853",
   "metadata": {},
   "outputs": [],
   "source": []
  },
  {
   "cell_type": "code",
   "execution_count": 25,
   "id": "5edd712b-593d-4dd7-93ab-e4b477226028",
   "metadata": {},
   "outputs": [
    {
     "name": "stdout",
     "output_type": "stream",
     "text": [
      "\u001b[1m2/2\u001b[0m \u001b[32m━━━━━━━━━━━━━━━━━━━━\u001b[0m\u001b[37m\u001b[0m \u001b[1m0s\u001b[0m 25ms/step\n"
     ]
    },
    {
     "data": {
      "text/plain": [
       "<sklearn.metrics._plot.confusion_matrix.ConfusionMatrixDisplay at 0x297904e98e0>"
      ]
     },
     "execution_count": 25,
     "metadata": {},
     "output_type": "execute_result"
    },
    {
     "data": {
      "image/png": "[encoded data removed]",
      "text/plain": [
       "<Figure size 640x480 with 2 Axes>"
      ]
     },
     "metadata": {},
     "output_type": "display_data"
    }
   ],
   "source": [
    "from sklearn.metrics import confusion_matrix, ConfusionMatrixDisplay\n",
    "import numpy as np\n",
    "\n",
    "# Prediksi kelas dari X_test\n",
    "y_pred_probs = model.predict(X_test)\n",
    "y_pred = np.argmax(y_pred_probs, axis=1)\n",
    "# Ambil label sebenarnya\n",
    "y_true = np.argmax(y_test, axis=1)\n",
    "\n",
    "# Buat confusion matrix\n",
    "cm = confusion_matrix(y_true, y_pred)\n",
    "# Tampilkan\n",
    "disp = ConfusionMatrixDisplay(confusion_matrix=cm, display_labels=le.classes_)\n",
    "disp.plot(cmap='Blues')"
   ]
  },
  {
   "cell_type": "code",
   "execution_count": 26,
   "id": "27f63422-29b4-4cf9-8c87-f9bed682e84a",
   "metadata": {},
   "outputs": [
    {
     "name": "stdout",
     "output_type": "stream",
     "text": [
      "\u001b[1m2/2\u001b[0m \u001b[32m━━━━━━━━━━━━━━━━━━━━\u001b[0m\u001b[37m\u001b[0m \u001b[1m0s\u001b[0m 39ms/step\n",
      "              precision    recall  f1-score   support\n",
      "\n",
      "    negative       1.00      0.94      0.97        16\n",
      "     neutral       1.00      0.95      0.98        22\n",
      "    positive       0.92      1.00      0.96        22\n",
      "\n",
      "    accuracy                           0.97        60\n",
      "   macro avg       0.97      0.96      0.97        60\n",
      "weighted avg       0.97      0.97      0.97        60\n",
      "\n"
     ]
    },
    {
     "data": {
      "image/png": "[encoded data removed]",
      "text/plain": [
       "<Figure size 600x400 with 2 Axes>"
      ]
     },
     "metadata": {},
     "output_type": "display_data"
    }
   ],
   "source": [
    "import numpy as np\n",
    "from sklearn.metrics import classification_report, confusion_matrix\n",
    "import seaborn as sns\n",
    "import matplotlib.pyplot as plt\n",
    "\n",
    "# Prediksi: ambil kelas dengan probabilitas tertinggi\n",
    "y_pred_probs = model.predict(X_test)\n",
    "y_pred = np.argmax(y_pred_probs, axis=1)\n",
    "y_true = np.argmax(y_test, axis=1)\n",
    "\n",
    "# Ambil label string kembali dari LabelEncoder\n",
    "y_pred_labels = le.inverse_transform(y_pred)\n",
    "y_true_labels = le.inverse_transform(y_true)\n",
    "\n",
    "# Classification report\n",
    "print(classification_report(y_true_labels, y_pred_labels))\n",
    "\n",
    "# Confusion matrix\n",
    "labels = le.classes_  # ['negative', 'neutral', 'positive']\n",
    "cm = confusion_matrix(y_true_labels, y_pred_labels, labels=labels)\n",
    "\n",
    "plt.figure(figsize=(6, 4))\n",
    "sns.heatmap(\n",
    "    cm, \n",
    "    annot=True, \n",
    "    fmt='d', \n",
    "    cmap='Blues', \n",
    "    xticklabels=labels, \n",
    "    yticklabels=labels\n",
    ")\n",
    "plt.xlabel(\"Predicted\")\n",
    "plt.ylabel(\"Actual\")\n",
    "plt.title(\"Confusion Matrix\")\n",
    "plt.show()\n"
   ]
  },
  {
   "cell_type": "code",
   "execution_count": 27,
   "id": "1ffaa77f-0c62-4f1c-85fe-fdef32cd5237",
   "metadata": {},
   "outputs": [
    {
     "data": {
      "text/plain": [
       "<Figure size 640x480 with 0 Axes>"
      ]
     },
     "metadata": {},
     "output_type": "display_data"
    }
   ],
   "source": [
    "plt.savefig(\"confusion_matrix.png\")"
   ]
  },
  {
   "cell_type": "code",
   "execution_count": 12,
   "id": "f9ff09f5-6298-4a65-8951-444a0036759a",
   "metadata": {},
   "outputs": [
    {
     "name": "stdout",
     "output_type": "stream",
     "text": [
      "\u001b[1m1/1\u001b[0m \u001b[32m━━━━━━━━━━━━━━━━━━━━\u001b[0m\u001b[37m\u001b[0m \u001b[1m0s\u001b[0m 126ms/step\n",
      "Prediksi: ['positive' 'negative']\n"
     ]
    }
   ],
   "source": [
    "ulasan_baru = [\"game ini bagus banget\", \"jelek dan lag terus\"]\n",
    "X_baru = vectorizer.transform(ulasan_baru).toarray()\n",
    "pred = model.predict(X_baru)\n",
    "hasil = le.inverse_transform(pred.argmax(axis=1))\n",
    "print(\"Prediksi:\", hasil)"
   ]
  },
  {
   "cell_type": "code",
   "execution_count": 14,
   "id": "9fa76273-15a5-467c-987e-e2f08ec1e14c",
   "metadata": {},
   "outputs": [],
   "source": [
    "model.save('sentiment_DNN_v1.keras')"
   ]
  },
  {
   "cell_type": "code",
   "execution_count": 17,
   "id": "2f3b971a-7e50-4e0b-9b48-c7833ea3657b",
   "metadata": {},
   "outputs": [
    {
     "data": {
      "text/plain": [
       "['label_encoder.pkl']"
      ]
     },
     "execution_count": 17,
     "metadata": {},
     "output_type": "execute_result"
    }
   ],
   "source": [
    "import joblib\n",
    "joblib.dump(vectorizer, 'tfidf_vectorizer.pkl')\n",
    "joblib.dump(le, 'label_encoder.pkl')"
   ]
  },
  {
   "cell_type": "code",
   "execution_count": null,
   "id": "fbf1592d-828b-404c-a28d-db8d2df09029",
   "metadata": {},
   "outputs": [],
   "source": []
  }
 ],
 "metadata": {
  "kernelspec": {
   "display_name": "Python 3 (ipykernel)",
   "language": "python",
   "name": "python3"
  },
  "language_info": {
   "codemirror_mode": {
    "name": "ipython",
    "version": 3
   },
   "file_extension": ".py",
   "mimetype": "text/x-python",
   "name": "python",
   "nbconvert_exporter": "python",
   "pygments_lexer": "ipython3",
   "version": "3.12.4"
  }
 },
 "nbformat": 4,
 "nbformat_minor": 5
}
